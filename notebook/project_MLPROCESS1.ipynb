{
 "cells": [
  {
   "cell_type": "code",
   "execution_count": 1,
   "id": "d7cf7a5b-7ed3-4c7f-8d4d-6196db3a2034",
   "metadata": {},
   "outputs": [
    {
     "name": "stderr",
     "output_type": "stream",
     "text": [
      "C:\\Users\\HP\\anaconda3\\lib\\site-packages\\xgboost\\compat.py:36: FutureWarning: pandas.Int64Index is deprecated and will be removed from pandas in a future version. Use pandas.Index with the appropriate dtype instead.\n",
      "  from pandas import MultiIndex, Int64Index\n"
     ]
    }
   ],
   "source": [
    "#Load Libraries\n",
    "from tqdm import tqdm\n",
    "from sklearn.model_selection import train_test_split\n",
    "import pandas as pd\n",
    "import numpy as np \n",
    "import joblib\n",
    "import os\n",
    "import yaml\n",
    "import seaborn as sns\n",
    "import scipy.stats as scs\n",
    "import matplotlib.pyplot as plt\n",
    "from imblearn.under_sampling import RandomUnderSampler\n",
    "from imblearn.over_sampling import RandomOverSampler, SMOTE\n",
    "from sklearn.preprocessing import LabelEncoder\n",
    "from sklearn.preprocessing import OneHotEncoder\n",
    "from sklearn.linear_model import LogisticRegression\n",
    "from sklearn.tree import DecisionTreeClassifier\n",
    "from sklearn.ensemble import RandomForestClassifier\n",
    "from sklearn.neighbors import KNeighborsClassifier\n",
    "from xgboost import XGBClassifier\n",
    "from xgboost import XGBClassifier\n",
    "from sklearn.metrics import classification_report, ConfusionMatrixDisplay, roc_curve, roc_auc_score\n",
    "from sklearn.model_selection import RandomizedSearchCV, GridSearchCV\n",
    "import json\n",
    "from datetime import datetime\n",
    "import copy\n",
    "import hashlib"
   ]
  },
  {
   "cell_type": "code",
   "execution_count": 2,
   "id": "12dab72b-1508-4ac7-b6e2-8863c27d733f",
   "metadata": {},
   "outputs": [
    {
     "data": {
      "text/plain": [
       "{'col': ['tanggal',\n",
       "  'stasiun',\n",
       "  'pm10',\n",
       "  'pm25',\n",
       "  'so2',\n",
       "  'co',\n",
       "  'o3',\n",
       "  'no2',\n",
       "  'max',\n",
       "  'critical',\n",
       "  'categori'],\n",
       " 'dataset_dir': 'C:/Users/HP/Documents/Jeffri Ivander/Data Science/Pacmann AI academy/Tugas/ML Process/project/jeffri-zt9s_ML-_Process2/data/',\n",
       " 'datetime_columns': ['tanggal'],\n",
       " 'int32_columns': ['pm10', 'pm25', 'so2', 'co', 'o3', 'no2', 'max'],\n",
       " 'label': 'categori',\n",
       " 'label_categories': ['BAIK', 'SEDANG', 'TIDAK SEHAT'],\n",
       " 'label_categories_new': ['BAIK', 'TIDAK BAIK'],\n",
       " 'missing_value_co': 11,\n",
       " 'missing_value_no2': 18,\n",
       " 'missing_value_o3': 29,\n",
       " 'missing_value_pm10': {'BAIK': 27, 'TIDAK BAIK': 57},\n",
       " 'missing_value_pm25': {'BAIK': 38, 'TIDAK BAIK': 84},\n",
       " 'missing_value_so2': 35,\n",
       " 'object_columns': ['stasiun', 'critical', 'categori'],\n",
       " 'predictors': ['stasiun', 'pm10', 'pm25', 'so2', 'co', 'o3', 'no2'],\n",
       " 'range_co': [-1, 100],\n",
       " 'range_no2': [-1, 100],\n",
       " 'range_o3': [-1, 160],\n",
       " 'range_pm10': [-1, 800],\n",
       " 'range_pm25': [-1, 400],\n",
       " 'range_so2': [-1, 500],\n",
       " 'range_stasiun': ['DKI1 (Bunderan HI)',\n",
       "  'DKI2 (Kelapa Gading)',\n",
       "  'DKI3 (Jagakarsa)',\n",
       "  'DKI4 (Lubang Buaya)',\n",
       "  'DKI5 (Kebon Jeruk) Jakarta Barat']}"
      ]
     },
     "execution_count": 2,
     "metadata": {},
     "output_type": "execute_result"
    }
   ],
   "source": [
    "#PARAMS LOAD\n",
    "params_dir = 'C:/Users/HP/Documents/Jeffri Ivander/Data Science/Pacmann AI academy/Tugas/ML Process/project/jeffri-zt9s_ML-_Process2/config/params.yaml'\n",
    "\n",
    "def load_params(param_dir):\n",
    "    with open(param_dir, 'r') as file:\n",
    "        params = yaml.safe_load(file)\n",
    "        \n",
    "    return params\n",
    "\n",
    "params = load_params(params_dir)\n",
    "\n",
    "params"
   ]
  },
  {
   "cell_type": "code",
   "execution_count": 3,
   "id": "a31241d4-26ee-4738-9f30-82ce755d95b2",
   "metadata": {},
   "outputs": [
    {
     "ename": "SyntaxError",
     "evalue": "invalid syntax (<ipython-input-3-ae6629d1c528>, line 4)",
     "output_type": "error",
     "traceback": [
      "\u001b[1;36m  File \u001b[1;32m\"<ipython-input-3-ae6629d1c528>\"\u001b[1;36m, line \u001b[1;32m4\u001b[0m\n\u001b[1;33m    tanggal         :\u001b[0m\n\u001b[1;37m                     ^\u001b[0m\n\u001b[1;31mSyntaxError\u001b[0m\u001b[1;31m:\u001b[0m invalid syntax\n"
     ]
    }
   ],
   "source": [
    "# Data Definition\n",
    "\n",
    "\n",
    "tanggal         :\n",
    "    [datetime]\n",
    "    [00:00 01/06/2021 - 23:59 31/12/2021]\n",
    "    waktu saat pengambilan sampel\n",
    "\n",
    "stasiun         :\n",
    "    [object]\n",
    "    ['DKI1 (Bunderan HI)', 'DKI2 (Kelapa Gading)', 'DKI3 (Jagakarsa)', 'DKI4 (Lubang Buaya)', 'DKI5 (Kebon Jeruk) Jakarta Barat']\n",
    "    lokasi saat pengambilan sampel\n",
    "\n",
    "pm10            :\n",
    "    [integer]\n",
    "    [0 - 800]\n",
    "    partikel udara yang berukuran lebih kecil dari 10 mikron\n",
    "\n",
    "pm25            :\n",
    "    [integer]\n",
    "    [0 - 400]\n",
    "    partikel udara yang berukuran lebih kecil dari 2.5 mikron\n",
    "\n",
    "so2             :\n",
    "    [integer]\n",
    "    [0 - 500]\n",
    "    sulfur dioksida\n",
    "\n",
    "co              :\n",
    "    [integer]\n",
    "    [0 - 100]\n",
    "    karbon monoksida\n",
    "\n",
    "o3              :\n",
    "    [integer]\n",
    "    [0 - 140]\n",
    "    ozone\n",
    "\n",
    "no2             :\n",
    "    [integer]\n",
    "    [0 - 100]\n",
    "    nitrogen dioksida\n",
    "\n",
    "max             :\n",
    "    [integer]\n",
    "    [0 - 800]\n",
    "    nilai paling besar diantara pm10, pm25, so2, co, o3, dan no2\n",
    "\n",
    "critical        :\n",
    "    [object]\n",
    "    [PM10, PM25, SO2, CO, O3, dan NO2]\n",
    "    nama kolom untuk nilai max\n",
    "\n",
    "categori        :\n",
    "    [object]\n",
    "    [BAIK, SEDANG, TIDAK SEHAT]\n",
    "    kategori untuk data pengukuran udara\n",
    "\n",
    "location        : tidak termasuk karena ada data yang nama kolomnya tidak standar\n",
    "    "
   ]
  },
  {
   "cell_type": "code",
   "execution_count": 4,
   "id": "d93384e4-a37e-40a9-beff-284bb99dd7bd",
   "metadata": {},
   "outputs": [
    {
     "name": "stderr",
     "output_type": "stream",
     "text": [
      "100%|███████████████████████████████████████████████████████████████████████████████████| 7/7 [00:00<00:00, 257.70it/s]"
     ]
    },
    {
     "name": "stdout",
     "output_type": "stream",
     "text": [
      "indeks-standar-pencemar-udara-di-spku-bulan-agustus-tahun-2021.csv\n",
      "Index(['tanggal', 'stasiun', 'pm10', 'pm25', 'so2', 'co', 'o3', 'no2', 'max',\n",
      "       'critical', 'categori'],\n",
      "      dtype='object')\n",
      "indeks-standar-pencemar-udara-di-spku-bulan-desember-tahun-2021.csv\n",
      "Index(['tanggal', 'stasiun', 'pm10', 'pm25', 'so2', 'co', 'o3', 'no2', 'max',\n",
      "       'critical', 'categori'],\n",
      "      dtype='object')\n",
      "indeks-standar-pencemar-udara-di-spku-bulan-juli-tahun-2021.csv\n",
      "Index(['tanggal', 'stasiun', 'pm10', 'pm25', 'so2', 'co', 'o3', 'no2', 'max',\n",
      "       'critical', 'categori'],\n",
      "      dtype='object')\n",
      "indeks-standar-pencemar-udara-di-spku-bulan-juni-tahun-2021.csv\n",
      "Index(['tanggal', 'stasiun', 'pm10', 'pm25', 'so2', 'co', 'o3', 'no2', 'max',\n",
      "       'critical', 'categori'],\n",
      "      dtype='object')\n",
      "indeks-standar-pencemar-udara-di-spku-bulan-november-tahun-2021.csv\n",
      "Index(['tanggal', 'stasiun', 'pm10', 'pm25', 'so2', 'co', 'o3', 'no2', 'max',\n",
      "       'critical', 'categori'],\n",
      "      dtype='object')\n",
      "indeks-standar-pencemar-udara-di-spku-bulan-oktober-tahun-2021.csv\n",
      "Index(['tanggal', 'stasiun', 'pm10', 'pm25', 'so2', 'co', 'o3', 'no2', 'max',\n",
      "       'critical', 'categori'],\n",
      "      dtype='object')\n",
      "indeks-standar-pencemar-udara-di-spku-bulan-september-tahun-2021.csv\n",
      "Index(['tanggal', 'stasiun', 'pm10', 'pm25', 'so2', 'co', 'o3', 'no2', 'max',\n",
      "       'critical', 'categori'],\n",
      "      dtype='object')\n",
      "(1070, 11)\n",
      "(1069, 11)\n",
      "(1069, 11)\n",
      "(1060, 11)\n"
     ]
    },
    {
     "name": "stderr",
     "output_type": "stream",
     "text": [
      "\n"
     ]
    }
   ],
   "source": [
    "#DATA COLLECTION\n",
    "\n",
    "# fungsi untuk membaca nama file, memuat file, dan menggabungkan dataset\n",
    "def read_dataset(dataset_dir, col):\n",
    "    dataset = pd.DataFrame()\n",
    "\n",
    "    for i in tqdm(os.listdir(dataset_dir)):\n",
    "        print(i)\n",
    "        data_i = pd.read_csv(dataset_dir + i)\n",
    "        data_i.rename(columns = {'location':'stasiun'},inplace = True)\n",
    "        data_i.columns = col\n",
    "        print(data_i.columns)\n",
    "        dataset = pd.concat([data_i, dataset])\n",
    "    \n",
    "    return dataset\n",
    "\n",
    "\n",
    "# melakukan pembacaan nama file, memuat file, dan menggabungkan dataset\n",
    "dataset = read_dataset(params[\"dataset_dir\"],params[\"col\"])\n",
    "\n",
    "# reset index untuk ,mencegah index yang tidak align\n",
    "dataset.reset_index(inplace = True, drop = True)\n",
    "\n",
    "print(dataset.shape)\n",
    "\n",
    "\n",
    "#cleansing critical feature\n",
    "dataset = dataset.loc[dataset['critical'] != 'BAIK']\n",
    "dataset = dataset.loc[dataset['critical'] != 'nan']\n",
    "print(dataset.shape)\n",
    "\n",
    "#cleansing numerical feature\n",
    "for i in ['pm10', 'pm25', 'so2', 'co', 'o3', 'no2', 'max']:\n",
    "    dataset[i] = dataset[i].replace(\"---\",-1).astype(int)\n",
    "\n",
    "    \n",
    "    \n",
    "\n",
    "    \n",
    "print(dataset.shape)\n",
    "\n",
    "dataset = dataset.dropna(axis=0,subset=['critical'])\n",
    "    \n",
    "print(dataset.shape)\n",
    "\n",
    "# cek perubahan tipe data untuk kolom tanggal\n",
    "dataset.tanggal = pd.to_datetime(dataset.tanggal)"
   ]
  },
  {
   "cell_type": "code",
   "execution_count": 5,
   "id": "0b6eb941-be6f-4e0f-a330-c4c601832b1f",
   "metadata": {},
   "outputs": [
    {
     "name": "stdout",
     "output_type": "stream",
     "text": [
      "<class 'pandas.core.frame.DataFrame'>\n",
      "Int64Index: 1060 entries, 0 to 1069\n",
      "Data columns (total 11 columns):\n",
      " #   Column    Non-Null Count  Dtype         \n",
      "---  ------    --------------  -----         \n",
      " 0   tanggal   1060 non-null   datetime64[ns]\n",
      " 1   stasiun   1060 non-null   object        \n",
      " 2   pm10      1060 non-null   int32         \n",
      " 3   pm25      1060 non-null   int32         \n",
      " 4   so2       1060 non-null   int32         \n",
      " 5   co        1060 non-null   int32         \n",
      " 6   o3        1060 non-null   int32         \n",
      " 7   no2       1060 non-null   int32         \n",
      " 8   max       1060 non-null   int32         \n",
      " 9   critical  1060 non-null   object        \n",
      " 10  categori  1060 non-null   object        \n",
      "dtypes: datetime64[ns](1), int32(7), object(3)\n",
      "memory usage: 70.4+ KB\n"
     ]
    }
   ],
   "source": [
    "dataset.info()"
   ]
  },
  {
   "cell_type": "code",
   "execution_count": 6,
   "id": "69962a4a-58e2-4dc2-8ff3-ad5c60015c5a",
   "metadata": {},
   "outputs": [
    {
     "data": {
      "text/plain": [
       "['C:/Users/HP/Documents/Jeffri Ivander/Data Science/Pacmann AI academy/Tugas/ML Process/project/jeffri-zt9s_ML-_Process2/processed/dataset.pkl']"
      ]
     },
     "execution_count": 6,
     "metadata": {},
     "output_type": "execute_result"
    }
   ],
   "source": [
    "#Data Defense\n",
    "def check_data(input_data, params):\n",
    "    # check data types\n",
    "    assert input_data.select_dtypes(\"datetime\").columns.to_list() == params[\"datetime_columns\"], \"an error occurs in datetime column(s).\"\n",
    "    assert input_data.select_dtypes(\"object\").columns.to_list() == params[\"object_columns\"], \"an error occurs in object column(s).\"\n",
    "    assert input_data.select_dtypes(\"int\").columns.to_list() == params[\"int32_columns\"], \"an error occurs in int32 column(s).\"\n",
    "\n",
    "    # check range of data\n",
    "    assert set(input_data.stasiun).issubset(set(params[\"range_stasiun\"])), \"an error occurs in stasiun range.\"\n",
    "    assert input_data.pm10.between(params[\"range_pm10\"][0], params[\"range_pm10\"][1]).sum() == len(input_data), \"an error occurs in pm10 range.\"\n",
    "    assert input_data.pm25.between(params[\"range_pm25\"][0], params[\"range_pm25\"][1]).sum() == len(input_data), \"an error occurs in pm25 range.\"\n",
    "    assert input_data.so2.between(params[\"range_so2\"][0], params[\"range_so2\"][1]).sum() == len(input_data), \"an error occurs in so2 range.\"\n",
    "    assert input_data.co.between(params[\"range_co\"][0], params[\"range_co\"][1]).sum() == len(input_data), \"an error occurs in co range.\"\n",
    "    assert input_data.o3.between(params[\"range_o3\"][0], params[\"range_o3\"][1]).sum() == len(input_data), \"an error occurs in o3 range.\"\n",
    "    assert input_data.no2.between(params[\"range_no2\"][0], params[\"range_no2\"][1]).sum() == len(input_data), \"an error occurs in no2 range.\"\n",
    "    \n",
    "\n",
    "# jika tidak ada error berarti data sudah sesuai dengan desain kita\n",
    "check_data(dataset, params)\n",
    "\n",
    "# simpan dataset yang telah digabungkan\n",
    "joblib.dump(dataset, 'C:/Users/HP/Documents/Jeffri Ivander/Data Science/Pacmann AI academy/Tugas/ML Process/project/jeffri-zt9s_ML-_Process2/processed/dataset.pkl')\n",
    "\n"
   ]
  },
  {
   "cell_type": "code",
   "execution_count": 7,
   "id": "f5d5132c-fd92-4b05-9d8d-4d10cf8fc6cb",
   "metadata": {},
   "outputs": [],
   "source": [
    "#Data Splitting\n",
    "# pisahkan data x dan y (x adalah fitur, y adalah label)\n",
    "x = dataset[params[\"predictors\"]].copy()\n",
    "y = dataset.categori.copy()\n",
    "\n",
    "x_train, x_test, y_train, y_test = train_test_split(x, y, test_size = 0.2, random_state = 42, stratify = y)\n",
    "# x_valid, x_test, y_valid, y_test = train_test_split(x_test, y_test, test_size = 0.5, random_state = 42, stratify = y_test)"
   ]
  },
  {
   "cell_type": "code",
   "execution_count": 8,
   "id": "11891ebc-cd91-4281-a311-48f5dbea4bcb",
   "metadata": {},
   "outputs": [
    {
     "name": "stdout",
     "output_type": "stream",
     "text": [
      "<class 'pandas.core.frame.DataFrame'>\n",
      "Int64Index: 1060 entries, 0 to 1069\n",
      "Data columns (total 7 columns):\n",
      " #   Column   Non-Null Count  Dtype \n",
      "---  ------   --------------  ----- \n",
      " 0   stasiun  1060 non-null   object\n",
      " 1   pm10     1060 non-null   int32 \n",
      " 2   pm25     1060 non-null   int32 \n",
      " 3   so2      1060 non-null   int32 \n",
      " 4   co       1060 non-null   int32 \n",
      " 5   o3       1060 non-null   int32 \n",
      " 6   no2      1060 non-null   int32 \n",
      "dtypes: int32(6), object(1)\n",
      "memory usage: 41.4+ KB\n",
      "None\n",
      "SEDANG         791\n",
      "TIDAK SEHAT    207\n",
      "BAIK            62\n",
      "Name: categori, dtype: int64\n"
     ]
    }
   ],
   "source": [
    "print(x.info())\n",
    "print(y.value_counts())"
   ]
  },
  {
   "cell_type": "code",
   "execution_count": 9,
   "id": "004cea34-b989-4676-93cb-df205c17b188",
   "metadata": {},
   "outputs": [
    {
     "data": {
      "text/plain": [
       "['C:/Users/HP/Documents/Jeffri Ivander/Data Science/Pacmann AI academy/Tugas/ML Process/project/jeffri-zt9s_ML-_Process2/processed/y_test.pkl']"
      ]
     },
     "execution_count": 9,
     "metadata": {},
     "output_type": "execute_result"
    }
   ],
   "source": [
    "joblib.dump(x_train, \"C:/Users/HP/Documents/Jeffri Ivander/Data Science/Pacmann AI academy/Tugas/ML Process/project/jeffri-zt9s_ML-_Process2/processed/x_train.pkl\")\n",
    "joblib.dump(y_train, \"C:/Users/HP/Documents/Jeffri Ivander/Data Science/Pacmann AI academy/Tugas/ML Process/project/jeffri-zt9s_ML-_Process2/processed/y_train.pkl\")\n",
    "# joblib.dump(x_valid, \"C:/Users/HP/Documents/Jeffri Ivander/Data Science/Pacmann AI academy/Tugas/ML Process/project/jeffri-zt9s_ML-_Process2/processed/x_valid.pkl\")\n",
    "# joblib.dump(y_valid, \"C:/Users/HP/Documents/Jeffri Ivander/Data Science/Pacmann AI academy/Tugas/ML Process/project/jeffri-zt9s_ML-_Process2/processed/y_valid.pkl\")\n",
    "joblib.dump(x_test, \"C:/Users/HP/Documents/Jeffri Ivander/Data Science/Pacmann AI academy/Tugas/ML Process/project/jeffri-zt9s_ML-_Process2/processed/x_test.pkl\")\n",
    "joblib.dump(y_test, \"C:/Users/HP/Documents/Jeffri Ivander/Data Science/Pacmann AI academy/Tugas/ML Process/project/jeffri-zt9s_ML-_Process2/processed/y_test.pkl\")"
   ]
  },
  {
   "cell_type": "code",
   "execution_count": 10,
   "id": "837ddd9a-3b1f-4acd-ad94-ee63fe279f94",
   "metadata": {},
   "outputs": [
    {
     "data": {
      "text/html": [
       "<div>\n",
       "<style scoped>\n",
       "    .dataframe tbody tr th:only-of-type {\n",
       "        vertical-align: middle;\n",
       "    }\n",
       "\n",
       "    .dataframe tbody tr th {\n",
       "        vertical-align: top;\n",
       "    }\n",
       "\n",
       "    .dataframe thead th {\n",
       "        text-align: right;\n",
       "    }\n",
       "</style>\n",
       "<table border=\"1\" class=\"dataframe\">\n",
       "  <thead>\n",
       "    <tr style=\"text-align: right;\">\n",
       "      <th></th>\n",
       "      <th>stasiun</th>\n",
       "      <th>pm10</th>\n",
       "      <th>pm25</th>\n",
       "      <th>so2</th>\n",
       "      <th>co</th>\n",
       "      <th>o3</th>\n",
       "      <th>no2</th>\n",
       "      <th>categori</th>\n",
       "    </tr>\n",
       "  </thead>\n",
       "  <tbody>\n",
       "    <tr>\n",
       "      <th>0</th>\n",
       "      <td>DKI3 (Jagakarsa)</td>\n",
       "      <td>57</td>\n",
       "      <td>84</td>\n",
       "      <td>45</td>\n",
       "      <td>12</td>\n",
       "      <td>22</td>\n",
       "      <td>15</td>\n",
       "      <td>SEDANG</td>\n",
       "    </tr>\n",
       "    <tr>\n",
       "      <th>1</th>\n",
       "      <td>DKI3 (Jagakarsa)</td>\n",
       "      <td>54</td>\n",
       "      <td>81</td>\n",
       "      <td>45</td>\n",
       "      <td>4</td>\n",
       "      <td>19</td>\n",
       "      <td>13</td>\n",
       "      <td>SEDANG</td>\n",
       "    </tr>\n",
       "    <tr>\n",
       "      <th>2</th>\n",
       "      <td>DKI4 (Lubang Buaya)</td>\n",
       "      <td>60</td>\n",
       "      <td>110</td>\n",
       "      <td>42</td>\n",
       "      <td>19</td>\n",
       "      <td>18</td>\n",
       "      <td>23</td>\n",
       "      <td>TIDAK SEHAT</td>\n",
       "    </tr>\n",
       "    <tr>\n",
       "      <th>3</th>\n",
       "      <td>DKI3 (Jagakarsa)</td>\n",
       "      <td>52</td>\n",
       "      <td>71</td>\n",
       "      <td>52</td>\n",
       "      <td>17</td>\n",
       "      <td>22</td>\n",
       "      <td>19</td>\n",
       "      <td>SEDANG</td>\n",
       "    </tr>\n",
       "    <tr>\n",
       "      <th>4</th>\n",
       "      <td>DKI3 (Jagakarsa)</td>\n",
       "      <td>60</td>\n",
       "      <td>84</td>\n",
       "      <td>47</td>\n",
       "      <td>7</td>\n",
       "      <td>23</td>\n",
       "      <td>18</td>\n",
       "      <td>SEDANG</td>\n",
       "    </tr>\n",
       "    <tr>\n",
       "      <th>...</th>\n",
       "      <td>...</td>\n",
       "      <td>...</td>\n",
       "      <td>...</td>\n",
       "      <td>...</td>\n",
       "      <td>...</td>\n",
       "      <td>...</td>\n",
       "      <td>...</td>\n",
       "      <td>...</td>\n",
       "    </tr>\n",
       "    <tr>\n",
       "      <th>843</th>\n",
       "      <td>DKI5 (Kebon Jeruk) Jakarta Barat</td>\n",
       "      <td>46</td>\n",
       "      <td>75</td>\n",
       "      <td>27</td>\n",
       "      <td>8</td>\n",
       "      <td>27</td>\n",
       "      <td>12</td>\n",
       "      <td>SEDANG</td>\n",
       "    </tr>\n",
       "    <tr>\n",
       "      <th>844</th>\n",
       "      <td>DKI5 (Kebon Jeruk) Jakarta Barat</td>\n",
       "      <td>45</td>\n",
       "      <td>64</td>\n",
       "      <td>-1</td>\n",
       "      <td>4</td>\n",
       "      <td>24</td>\n",
       "      <td>12</td>\n",
       "      <td>SEDANG</td>\n",
       "    </tr>\n",
       "    <tr>\n",
       "      <th>845</th>\n",
       "      <td>DKI5 (Kebon Jeruk) Jakarta Barat</td>\n",
       "      <td>54</td>\n",
       "      <td>-1</td>\n",
       "      <td>23</td>\n",
       "      <td>13</td>\n",
       "      <td>25</td>\n",
       "      <td>22</td>\n",
       "      <td>SEDANG</td>\n",
       "    </tr>\n",
       "    <tr>\n",
       "      <th>846</th>\n",
       "      <td>DKI3 (Jagakarsa)</td>\n",
       "      <td>54</td>\n",
       "      <td>76</td>\n",
       "      <td>50</td>\n",
       "      <td>8</td>\n",
       "      <td>32</td>\n",
       "      <td>14</td>\n",
       "      <td>SEDANG</td>\n",
       "    </tr>\n",
       "    <tr>\n",
       "      <th>847</th>\n",
       "      <td>DKI3 (Jagakarsa)</td>\n",
       "      <td>53</td>\n",
       "      <td>70</td>\n",
       "      <td>43</td>\n",
       "      <td>12</td>\n",
       "      <td>32</td>\n",
       "      <td>15</td>\n",
       "      <td>SEDANG</td>\n",
       "    </tr>\n",
       "  </tbody>\n",
       "</table>\n",
       "<p>848 rows × 8 columns</p>\n",
       "</div>"
      ],
      "text/plain": [
       "                              stasiun  pm10  pm25  so2  co  o3  no2  \\\n",
       "0                    DKI3 (Jagakarsa)    57    84   45  12  22   15   \n",
       "1                    DKI3 (Jagakarsa)    54    81   45   4  19   13   \n",
       "2                 DKI4 (Lubang Buaya)    60   110   42  19  18   23   \n",
       "3                    DKI3 (Jagakarsa)    52    71   52  17  22   19   \n",
       "4                    DKI3 (Jagakarsa)    60    84   47   7  23   18   \n",
       "..                                ...   ...   ...  ...  ..  ..  ...   \n",
       "843  DKI5 (Kebon Jeruk) Jakarta Barat    46    75   27   8  27   12   \n",
       "844  DKI5 (Kebon Jeruk) Jakarta Barat    45    64   -1   4  24   12   \n",
       "845  DKI5 (Kebon Jeruk) Jakarta Barat    54    -1   23  13  25   22   \n",
       "846                  DKI3 (Jagakarsa)    54    76   50   8  32   14   \n",
       "847                  DKI3 (Jagakarsa)    53    70   43  12  32   15   \n",
       "\n",
       "        categori  \n",
       "0         SEDANG  \n",
       "1         SEDANG  \n",
       "2    TIDAK SEHAT  \n",
       "3         SEDANG  \n",
       "4         SEDANG  \n",
       "..           ...  \n",
       "843       SEDANG  \n",
       "844       SEDANG  \n",
       "845       SEDANG  \n",
       "846       SEDANG  \n",
       "847       SEDANG  \n",
       "\n",
       "[848 rows x 8 columns]"
      ]
     },
     "execution_count": 10,
     "metadata": {},
     "output_type": "execute_result"
    }
   ],
   "source": [
    "\n",
    "datatrain = pd.concat([x_train, y_train], axis = 1)\n",
    "\n",
    "datatrain.reset_index(inplace = True, drop = True)\n",
    "datatrain"
   ]
  },
  {
   "cell_type": "code",
   "execution_count": 11,
   "id": "45aeff3c-01d1-4ad3-9659-07bc31eba4f9",
   "metadata": {},
   "outputs": [
    {
     "name": "stdout",
     "output_type": "stream",
     "text": [
      "jumlah missing value 0\n",
      "data baik\n",
      "            pm10       pm25        so2         co         o3        no2\n",
      "count  49.000000  49.000000  49.000000  49.000000  49.000000  49.000000\n",
      "mean   26.673469  32.591837  27.571429   6.755102  22.612245  10.244898\n",
      "std     8.954486  15.834980  14.608787   4.140907  11.659789   5.517135\n",
      "min    -1.000000  -1.000000  -1.000000   2.000000  -1.000000  -1.000000\n",
      "25%    22.000000  28.000000  14.000000   4.000000  14.000000   6.000000\n",
      "50%    27.000000  36.000000  31.000000   7.000000  17.000000   9.000000\n",
      "75%    31.000000  44.000000  40.000000   8.000000  32.000000  13.000000\n",
      "max    50.000000  50.000000  50.000000  28.000000  48.000000  29.000000\n",
      "data tidak baik\n",
      "             pm10        pm25         so2          co          o3         no2\n",
      "count  799.000000  799.000000  799.000000  799.000000  799.000000  799.000000\n",
      "mean    56.176471   83.894869   36.324155   11.548185   30.150188   22.197747\n",
      "std     14.762027   23.295454   15.871075    4.463146   13.434235    9.285688\n",
      "min     -1.000000   -1.000000   -1.000000   -1.000000   -1.000000   -1.000000\n",
      "25%     51.000000   70.000000   28.000000    9.000000   22.000000   15.000000\n",
      "50%     57.000000   82.000000   39.000000   11.000000   28.000000   21.000000\n",
      "75%     64.000000   98.000000   48.000000   14.000000   36.000000   27.000000\n",
      "max    179.000000  174.000000   82.000000   44.000000   81.000000   65.000000\n"
     ]
    }
   ],
   "source": [
    "# Exploratory Data Analysis [EDA]\n",
    "\n",
    "\n",
    "#Check Missing Value\n",
    "print(f'jumlah missing value {datatrain.isnull().sum().sum()}')\n",
    "\n",
    "#Check if we need to do imputation based on class\n",
    "datatrain_baik = datatrain[datatrain.categori == \"BAIK\"].copy()\n",
    "datatrain_tidak_baik = datatrain[datatrain.categori != \"BAIK\"].copy()\n",
    "# kelas 1\n",
    "print('data baik')\n",
    "print(datatrain_baik.describe())\n",
    "# kelas 2\n",
    "print('data tidak baik')\n",
    "print(datatrain_tidak_baik.describe())"
   ]
  },
  {
   "cell_type": "code",
   "execution_count": 12,
   "id": "4e5b1562-5d13-47d4-a129-a608944cc224",
   "metadata": {},
   "outputs": [],
   "source": [
    "    # pm10      : mean dari kelas 0 dan 1 terpaut cukup jauh, maka akan menggunakan kelas\n",
    "    # pm25      : mean dari kelas 0 dan 1 terpaut cukup jauh, maka akan menggunakan kelas\n",
    "    # so2       : mean dari kelas 0 dan 1 tidak terpaut jauh, maka tidak akan menggunakan kelas\n",
    "    # co        : median dari kelas 0 dan 1 tidak terpaut jauh, maka tidak akan menggunakan kelas\n",
    "    # o3        : median dari kelas 0 dan 1 tidak terpaut jauh, maka tidak akan menggunakan kelas\n",
    "    # no2       : median dari kelas 0 dan 1 tidak terpaut jauh, maka tidak akan menggunakan kelas"
   ]
  },
  {
   "cell_type": "code",
   "execution_count": 13,
   "id": "d85cdc9a-ffb5-4285-923c-05c0c49abb5b",
   "metadata": {},
   "outputs": [
    {
     "data": {
      "text/plain": [
       "array(['SEDANG', 'BAIK', 'TIDAK SEHAT'], dtype=object)"
      ]
     },
     "execution_count": 13,
     "metadata": {},
     "output_type": "execute_result"
    }
   ],
   "source": [
    "dataset['categori'].unique()"
   ]
  },
  {
   "cell_type": "code",
   "execution_count": 14,
   "id": "c3c34912-0e9b-484c-8e71-35b5810677cb",
   "metadata": {},
   "outputs": [
    {
     "name": "stdout",
     "output_type": "stream",
     "text": [
      "Line2D(_child1)\n"
     ]
    },
    {
     "data": {
      "image/png": "[encoded data removed]",
      "text/plain": [
       "<Figure size 432x288 with 1 Axes>"
      ]
     },
     "metadata": {
      "needs_background": "light"
     },
     "output_type": "display_data"
    }
   ],
   "source": [
    "# plot untuk melihat distribusi pm10 jika tidak dibedakan berdasarkan categori\n",
    "sns.kdeplot(data = datatrain.replace(\"SEDANG\", \"TIDAK SEHAT\"), x = \"pm10\")\n",
    "print(plt.axvline(dataset.pm10.mean(), 0, 1, color = \"g\"))\n"
   ]
  },
  {
   "cell_type": "code",
   "execution_count": 15,
   "id": "eaf56faf-895d-4437-831e-c504c96be037",
   "metadata": {},
   "outputs": [
    {
     "data": {
      "text/plain": [
       "<matplotlib.lines.Line2D at 0x19ee56db0d0>"
      ]
     },
     "execution_count": 15,
     "metadata": {},
     "output_type": "execute_result"
    },
    {
     "data": {
      "image/png": "[encoded data removed]",
      "text/plain": [
       "<Figure size 432x288 with 1 Axes>"
      ]
     },
     "metadata": {
      "needs_background": "light"
     },
     "output_type": "display_data"
    }
   ],
   "source": [
    "\n",
    "# plot untuk melihat distribusi pm10 jika dibedakan berdasarkan categori\n",
    "sns.kdeplot(data = datatrain.replace(\"SEDANG\", \"TIDAK SEHAT\"), x = \"pm10\", hue = \"categori\")\n",
    "plt.axvline(datatrain_tidak_baik.pm10.mean(), 0, 1, color = \"g\")\n",
    "plt.axvline(datatrain_baik.pm10.mean(), 0, 1, color = \"k\")"
   ]
  },
  {
   "cell_type": "code",
   "execution_count": 16,
   "id": "dec8eeb5-66cd-422d-a078-c4fa65072049",
   "metadata": {},
   "outputs": [
    {
     "data": {
      "text/plain": [
       "<matplotlib.lines.Line2D at 0x19ee56977f0>"
      ]
     },
     "execution_count": 16,
     "metadata": {},
     "output_type": "execute_result"
    },
    {
     "data": {
      "image/png": "[encoded data removed]",
      "text/plain": [
       "<Figure size 432x288 with 1 Axes>"
      ]
     },
     "metadata": {
      "needs_background": "light"
     },
     "output_type": "display_data"
    }
   ],
   "source": [
    "\n",
    "# plot untuk melihat distribusi pm10 jika dibedakan berdasarkan categori\n",
    "sns.kdeplot(data = datatrain.replace(\"SEDANG\", \"TIDAK SEHAT\"), x = \"pm25\")\n",
    "plt.axvline(datatrain.pm25.mean(), 0, 1, color = \"g\")"
   ]
  },
  {
   "cell_type": "code",
   "execution_count": 17,
   "id": "a0f7b389-1ca2-40bf-a022-740da14cf47f",
   "metadata": {},
   "outputs": [
    {
     "data": {
      "text/plain": [
       "<matplotlib.lines.Line2D at 0x19ee57d8700>"
      ]
     },
     "execution_count": 17,
     "metadata": {},
     "output_type": "execute_result"
    },
    {
     "data": {
      "image/png": "[encoded data removed]",
      "text/plain": [
       "<Figure size 432x288 with 1 Axes>"
      ]
     },
     "metadata": {
      "needs_background": "light"
     },
     "output_type": "display_data"
    }
   ],
   "source": [
    "sns.kdeplot(data = datatrain.replace(\"SEDANG\", \"TIDAK SEHAT\"), x = \"pm25\", hue = \"categori\")\n",
    "plt.axvline(datatrain_tidak_baik.pm25.mean(), 0, 1, color = \"g\")\n",
    "plt.axvline(datatrain_baik.pm25.mean(), 0, 1, color = \"k\")"
   ]
  },
  {
   "cell_type": "code",
   "execution_count": 18,
   "id": "4e0e9005-fe55-458d-a882-a4b815890c8d",
   "metadata": {},
   "outputs": [
    {
     "data": {
      "text/plain": [
       "<function matplotlib.pyplot.show(close=None, block=None)>"
      ]
     },
     "execution_count": 18,
     "metadata": {},
     "output_type": "execute_result"
    },
    {
     "data": {
      "image/png": "[encoded data removed]",
      "text/plain": [
       "<Figure size 432x288 with 1 Axes>"
      ]
     },
     "metadata": {
      "needs_background": "light"
     },
     "output_type": "display_data"
    }
   ],
   "source": [
    "\n",
    "# plot untuk melihat distribusi so2 jika dibedakan berdasarkan categori\n",
    "sns.kdeplot(data = datatrain.replace(\"SEDANG\", \"TIDAK SEHAT\"), x = \"so2\")\n",
    "plt.axvline(datatrain.so2.mean(), 0, 1, color = \"g\")\n",
    "plt.show\n"
   ]
  },
  {
   "cell_type": "code",
   "execution_count": 19,
   "id": "fe77caf7-be57-472e-af8c-adb068fd6332",
   "metadata": {},
   "outputs": [
    {
     "data": {
      "text/plain": [
       "<matplotlib.lines.Line2D at 0x19ee58b5880>"
      ]
     },
     "execution_count": 19,
     "metadata": {},
     "output_type": "execute_result"
    },
    {
     "data": {
      "image/png": "[encoded data removed]",
      "text/plain": [
       "<Figure size 432x288 with 1 Axes>"
      ]
     },
     "metadata": {
      "needs_background": "light"
     },
     "output_type": "display_data"
    }
   ],
   "source": [
    "\n",
    "sns.kdeplot(data = datatrain.replace(\"SEDANG\", \"TIDAK SEHAT\"), x = \"so2\", hue = \"categori\")\n",
    "plt.axvline(datatrain_tidak_baik.so2.mean(), 0, 1, color = \"g\")\n",
    "plt.axvline(datatrain_baik.so2.mean(), 0, 1, color = \"k\")"
   ]
  },
  {
   "cell_type": "code",
   "execution_count": 20,
   "id": "b8a4b1c0-0c6c-4f0b-a28e-2d8b22761c98",
   "metadata": {},
   "outputs": [
    {
     "data": {
      "text/plain": [
       "<function matplotlib.pyplot.show(close=None, block=None)>"
      ]
     },
     "execution_count": 20,
     "metadata": {},
     "output_type": "execute_result"
    },
    {
     "data": {
      "image/png": "[encoded data removed]",
      "text/plain": [
       "<Figure size 432x288 with 1 Axes>"
      ]
     },
     "metadata": {
      "needs_background": "light"
     },
     "output_type": "display_data"
    }
   ],
   "source": [
    "\n",
    "# plot untuk melihat distribusi co jika dibedakan berdasarkan categori\n",
    "sns.kdeplot(data = datatrain.replace(\"SEDANG\", \"TIDAK SEHAT\"), x = \"co\")\n",
    "plt.axvline(datatrain.co.mean(), 0, 1, color = \"g\")\n",
    "plt.show\n"
   ]
  },
  {
   "cell_type": "code",
   "execution_count": 21,
   "id": "1999c683-bdfd-47dc-bf5f-84c25f78ee68",
   "metadata": {},
   "outputs": [
    {
     "data": {
      "text/plain": [
       "<matplotlib.lines.Line2D at 0x19ee598c9a0>"
      ]
     },
     "execution_count": 21,
     "metadata": {},
     "output_type": "execute_result"
    },
    {
     "data": {
      "image/png": "[encoded data removed]",
      "text/plain": [
       "<Figure size 432x288 with 1 Axes>"
      ]
     },
     "metadata": {
      "needs_background": "light"
     },
     "output_type": "display_data"
    }
   ],
   "source": [
    "\n",
    "sns.kdeplot(data = datatrain.replace(\"SEDANG\", \"TIDAK SEHAT\"), x = \"co\", hue = \"categori\")\n",
    "plt.axvline(datatrain_tidak_baik.co.mean(), 0, 1, color = \"g\")\n",
    "plt.axvline(datatrain_baik.co.mean(), 0, 1, color = \"k\")"
   ]
  },
  {
   "cell_type": "code",
   "execution_count": 22,
   "id": "72b24de0-7bca-49c1-acdb-ea91f07d18b2",
   "metadata": {},
   "outputs": [
    {
     "data": {
      "text/plain": [
       "<function matplotlib.pyplot.show(close=None, block=None)>"
      ]
     },
     "execution_count": 22,
     "metadata": {},
     "output_type": "execute_result"
    },
    {
     "data": {
      "image/png": "[encoded data removed]",
      "text/plain": [
       "<Figure size 432x288 with 1 Axes>"
      ]
     },
     "metadata": {
      "needs_background": "light"
     },
     "output_type": "display_data"
    }
   ],
   "source": [
    "\n",
    "# plot untuk melihat distribusi o3 jika dibedakan berdasarkan categori\n",
    "sns.kdeplot(data = datatrain.replace(\"SEDANG\", \"TIDAK SEHAT\"), x = \"o3\")\n",
    "plt.axvline(datatrain.o3.mean(), 0, 1, color = \"g\")\n",
    "plt.show\n"
   ]
  },
  {
   "cell_type": "code",
   "execution_count": 23,
   "id": "5bc306e4-9b32-42a4-86c5-52987081eb67",
   "metadata": {},
   "outputs": [
    {
     "data": {
      "text/plain": [
       "<matplotlib.lines.Line2D at 0x19ee6a38c40>"
      ]
     },
     "execution_count": 23,
     "metadata": {},
     "output_type": "execute_result"
    },
    {
     "data": {
      "image/png": "[encoded data removed]",
      "text/plain": [
       "<Figure size 432x288 with 1 Axes>"
      ]
     },
     "metadata": {
      "needs_background": "light"
     },
     "output_type": "display_data"
    }
   ],
   "source": [
    "\n",
    "sns.kdeplot(data = datatrain.replace(\"SEDANG\", \"TIDAK SEHAT\"), x = \"o3\", hue = \"categori\")\n",
    "plt.axvline(datatrain_tidak_baik.o3.mean(), 0, 1, color = \"g\")\n",
    "plt.axvline(datatrain_baik.o3.mean(), 0, 1, color = \"k\")"
   ]
  },
  {
   "cell_type": "code",
   "execution_count": 24,
   "id": "c6711b41-c8e6-48f2-9e39-30d2888407df",
   "metadata": {},
   "outputs": [
    {
     "data": {
      "text/plain": [
       "<function matplotlib.pyplot.show(close=None, block=None)>"
      ]
     },
     "execution_count": 24,
     "metadata": {},
     "output_type": "execute_result"
    },
    {
     "data": {
      "image/png": "[encoded data removed]",
      "text/plain": [
       "<Figure size 432x288 with 1 Axes>"
      ]
     },
     "metadata": {
      "needs_background": "light"
     },
     "output_type": "display_data"
    }
   ],
   "source": [
    "\n",
    "# plot untuk melihat distribusi no2 jika dibedakan berdasarkan categori\n",
    "sns.kdeplot(data = datatrain.replace(\"SEDANG\", \"TIDAK SEHAT\"), x = \"no2\")\n",
    "plt.axvline(datatrain.no2.mean(), 0, 1, color = \"g\")\n",
    "plt.show\n"
   ]
  },
  {
   "cell_type": "code",
   "execution_count": 25,
   "id": "beedea43-43e7-4997-987b-6480a9b1ec42",
   "metadata": {},
   "outputs": [
    {
     "data": {
      "text/plain": [
       "<matplotlib.lines.Line2D at 0x19ee6b1bf40>"
      ]
     },
     "execution_count": 25,
     "metadata": {},
     "output_type": "execute_result"
    },
    {
     "data": {
      "image/png": "[encoded data removed]",
      "text/plain": [
       "<Figure size 432x288 with 1 Axes>"
      ]
     },
     "metadata": {
      "needs_background": "light"
     },
     "output_type": "display_data"
    }
   ],
   "source": [
    "\n",
    "sns.kdeplot(data = datatrain.replace(\"SEDANG\", \"TIDAK SEHAT\"), x = \"no2\", hue = \"categori\")\n",
    "plt.axvline(datatrain_tidak_baik.no2.mean(), 0, 1, color = \"g\")\n",
    "plt.axvline(datatrain_baik.no2.mean(), 0, 1, color = \"k\")"
   ]
  },
  {
   "cell_type": "code",
   "execution_count": 26,
   "id": "615337c4-be2f-4523-b2f4-cd1d4038e5d5",
   "metadata": {},
   "outputs": [
    {
     "data": {
      "text/plain": [
       "<AxesSubplot:>"
      ]
     },
     "execution_count": 26,
     "metadata": {},
     "output_type": "execute_result"
    },
    {
     "data": {
      "image/png": "[encoded data removed]",
      "text/plain": [
       "<Figure size 432x288 with 2 Axes>"
      ]
     },
     "metadata": {
      "needs_background": "light"
     },
     "output_type": "display_data"
    }
   ],
   "source": [
    "#PEARSON CORELLATION\n",
    "sns.heatmap(datatrain.corr())"
   ]
  },
  {
   "cell_type": "code",
   "execution_count": 27,
   "id": "3147266a-eee5-4705-a8e7-4796ad46e5bb",
   "metadata": {},
   "outputs": [
    {
     "name": "stdout",
     "output_type": "stream",
     "text": [
      "mean antara kelas 0 dan kelas 1 untuk pm10statistically significant\n",
      "mean antara kelas 0 dan kelas 1 untuk pm25statistically significant\n",
      "mean antara kelas 0 dan kelas 1 untuk so2statistically significant\n",
      "mean antara kelas 0 dan kelas 1 untuk costatistically significant\n",
      "mean antara kelas 0 dan kelas 1 untuk o3statistically significant\n",
      "mean antara kelas 0 dan kelas 1 untuk no2statistically significant\n"
     ]
    }
   ],
   "source": [
    "#T-test for predictors betwee categories\n",
    "# perform t-test untuk 2 variabel\n",
    "for i in ['pm10', 'pm25', 'so2', 'co', 'o3', 'no2']:\n",
    "       print(np.where((scs.ttest_ind(\n",
    "            datatrain_baik[datatrain_baik[i].isnull() != True][i],\n",
    "            datatrain_tidak_baik[datatrain_tidak_baik[i].isnull() != True][i]\n",
    "        )[0]<scs.t.ppf(0.05, df = (len(dataset) - 2))) &(scs.ttest_ind(\n",
    "            datatrain_baik[datatrain_baik[i].isnull() != True][i],\n",
    "            datatrain_tidak_baik[datatrain_tidak_baik[i].isnull() != True][i]\n",
    "        )[1]<0.05),\"mean antara kelas 0 dan kelas 1 untuk \" + i +\"statistically significant\",\"mean antara kelas 0 dan kelas 1 untuk \" + i +\"statistically not significant\"))\n",
    "        "
   ]
  },
  {
   "cell_type": "code",
   "execution_count": 28,
   "id": "db0ed2ea-293c-445a-96bc-424ee815babb",
   "metadata": {},
   "outputs": [
    {
     "name": "stdout",
     "output_type": "stream",
     "text": [
      "SEDANG         633\n",
      "TIDAK SEHAT    166\n",
      "BAIK            49\n",
      "Name: categori, dtype: int64\n"
     ]
    },
    {
     "data": {
      "text/plain": [
       "<AxesSubplot:xlabel='categori', ylabel='Count'>"
      ]
     },
     "execution_count": 28,
     "metadata": {},
     "output_type": "execute_result"
    },
    {
     "data": {
      "image/png": "[encoded data removed]",
      "text/plain": [
       "<Figure size 432x288 with 1 Axes>"
      ]
     },
     "metadata": {
      "needs_background": "light"
     },
     "output_type": "display_data"
    }
   ],
   "source": [
    "#Check Imbalance Label\n",
    "print(datatrain.categori.value_counts())\n",
    "\n",
    "sns.histplot(data = datatrain, x = \"categori\", hue = \"categori\")"
   ]
  },
  {
   "cell_type": "code",
   "execution_count": 29,
   "id": "76ce09c5-29de-426c-8e4b-728413ac3ef6",
   "metadata": {},
   "outputs": [],
   "source": [
    "#PROCESS AND FEATURE ENGINEERING"
   ]
  },
  {
   "cell_type": "code",
   "execution_count": 29,
   "id": "e4feda81-08bf-4394-b2c5-d1f113ef49e8",
   "metadata": {},
   "outputs": [],
   "source": [
    "dataset = pd.concat([x_train, y_train], axis = 1)\n",
    "\n",
    "# valid_set = pd.concat([x_valid, y_valid], axis = 1)\n",
    "\n",
    "test_set = pd.concat([x_test, y_test], axis = 1)"
   ]
  },
  {
   "cell_type": "code",
   "execution_count": 30,
   "id": "8932fb1e-5f79-4de9-969b-0c0321593219",
   "metadata": {},
   "outputs": [],
   "source": [
    "# Join Categories\n",
    "\n",
    "def params_updater(key, value, params, params_dir):\n",
    "    params = params.copy()\n",
    "    params[key] = value\n",
    "\n",
    "    with open(params_dir, \"w\") as file:\n",
    "        yaml.dump(params, file)\n",
    "    \n",
    "    params = load_params(params_dir)\n",
    "\n",
    "    return params\n",
    "\n",
    "def join_cat(set_data, params):\n",
    "    if params[\"label\"] in set_data.columns.to_list():\n",
    "        set_data = set_data.copy()\n",
    "        set_data.categori.replace(params[\"label_categories\"][1], params[\"label_categories\"][2], inplace = True)\n",
    "        set_data.categori.replace(params[\"label_categories\"][2], params[\"label_categories_new\"][1], inplace = True)\n",
    "        return set_data\n",
    "    else:\n",
    "        raise RuntimeError(\"Kolom label tidak terdeteksi pada set data yang diberikan!\")\n",
    "        \n",
    "params = params_updater(\"label\", \"categori\", params, params_dir)\n",
    "params = params_updater(\"label_categories\", [\"BAIK\", \"SEDANG\", \"TIDAK SEHAT\"], params, params_dir)\n",
    "params = params_updater(\"label_categories_new\", [\"BAIK\", \"TIDAK BAIK\"], params, params_dir)\n",
    "\n",
    "dataset = join_cat(dataset, params)\n",
    "\n",
    "# valid_set = join_cat(valid_set, params)\n",
    "\n",
    "test_set = join_cat(test_set, params)\n",
    "\n"
   ]
  },
  {
   "cell_type": "code",
   "execution_count": 32,
   "id": "e3df21cf-8551-453f-869b-c20225426c0f",
   "metadata": {},
   "outputs": [],
   "source": [
    "#Handling Missing Value\n",
    "\n",
    "def nan_detector(set_data):\n",
    "    set_data = set_data.copy()\n",
    "    set_data.replace(-1, np.nan, inplace = True)\n",
    "    return set_data\n",
    "\n",
    "dataset = nan_detector(dataset)\n",
    "\n",
    "# valid_set = nan_detector(valid_set)\n",
    "\n",
    "test_set = nan_detector(test_set)\n",
    "\n",
    "\n",
    "#HANDLING PM10 & PM 25\n",
    "\n",
    "for i in ['pm10','pm25']:\n",
    "    impute_1 = int(dataset[dataset.categori == \"BAIK\"][i].mean())\n",
    "    impute_0 = int(dataset[dataset.categori == \"TIDAK BAIK\"][i].mean())\n",
    "\n",
    "    params = params_updater(\"missing_value_\"+i, {\"BAIK\": impute_1, \"TIDAK BAIK\": impute_0}, params, params_dir)\n",
    "\n",
    "    dataset.loc[dataset[(dataset.categori == \"BAIK\") & (dataset[i].isnull() == True)].index, i] = impute_1\n",
    "    dataset.loc[dataset[(dataset.categori == \"TIDAK BAIK\") & (dataset[i].isnull() == True)].index, i] = impute_0\n",
    "\n",
    "#     valid_set.loc[valid_set[(valid_set.categori == \"BAIK\") & (valid_set[i].isnull() == True)].index, i] = impute_1\n",
    "#     valid_set.loc[valid_set[(valid_set.categori == \"TIDAK BAIK\") & (valid_set[i].isnull() == True)].index, i] = impute_0\n",
    "\n",
    "    test_set.loc[test_set[(test_set.categori == \"BAIK\") & (test_set[i].isnull() == True)].index, i] = impute_1\n",
    "    test_set.loc[test_set[(test_set.categori == \"TIDAK BAIK\") & (test_set[i].isnull() == True)].index, i] = impute_0\n",
    "\n",
    "#Handling in SO2, CO, O3, dan NO2\n",
    "\n",
    "impute_so2 = int(dataset.so2.mean())\n",
    "impute_co = int(dataset.co.median())\n",
    "impute_o3 = int(dataset.o3.median())\n",
    "impute_no2 = int(dataset.no2.median())\n",
    "\n",
    "impute_values = {\"so2\" : impute_so2, \"co\" : impute_co, \"o3\" : impute_o3, \"no2\" : impute_no2}\n",
    "params = params_updater(\"missing_value_so2\", 35, params, params_dir)\n",
    "params = params_updater(\"missing_value_co\", 11, params, params_dir)\n",
    "params = params_updater(\"missing_value_o3\", 29, params, params_dir)\n",
    "params = params_updater(\"missing_value_no2\", 18, params, params_dir)\n",
    "\n",
    "dataset.fillna(value = impute_values, inplace = True)\n",
    "# valid_set.fillna(value = impute_values, inplace = True)\n",
    "test_set.fillna(value = impute_values, inplace = True)\n"
   ]
  },
  {
   "cell_type": "code",
   "execution_count": 33,
   "id": "c928f77b-8a65-4014-b561-5ae972597eef",
   "metadata": {},
   "outputs": [],
   "source": [
    "#ENCODING STASIUN FEATURE\n",
    "\n",
    "ohe_statiun = OneHotEncoder(sparse = False)\n",
    "ohe_statiun.fit(np.array(params[\"range_stasiun\"]).reshape(-1, 1))\n",
    "\n",
    "ohe_statiun.categories_\n",
    "\n",
    "joblib.dump(ohe_statiun, \"C:/Users/HP/Documents/Jeffri Ivander/Data Science/Pacmann AI academy/Tugas/ML Process/project/jeffri-zt9s_ML-_Process2/model/ohe_stasiun.pkl\")\n",
    "\n",
    "stasiun_features = ohe_statiun.transform(np.array(dataset.stasiun.to_list()).reshape(-1, 1))\n",
    "stasiun_features = pd.DataFrame(stasiun_features, columns = params[\"range_stasiun\"])\n",
    "stasiun_features.set_index(dataset.index, inplace = True)\n",
    "dataset = pd.concat([stasiun_features, dataset], axis = 1)\n",
    "dataset.drop(columns = \"stasiun\", inplace = True)\n",
    "\n",
    "# stasiun_features = ohe_statiun.transform(np.array(valid_set.stasiun.to_list()).reshape(-1, 1))\n",
    "# stasiun_features = pd.DataFrame(stasiun_features, columns = params[\"range_stasiun\"])\n",
    "# stasiun_features.set_index(valid_set.index, inplace = True)\n",
    "# valid_set = pd.concat([stasiun_features, valid_set], axis = 1)\n",
    "# valid_set.drop(columns = \"stasiun\", inplace = True)\n",
    "\n",
    "stasiun_features = ohe_statiun.transform(np.array(test_set.stasiun.to_list()).reshape(-1, 1))\n",
    "stasiun_features = pd.DataFrame(stasiun_features, columns = params[\"range_stasiun\"])\n",
    "stasiun_features.set_index(test_set.index, inplace = True)\n",
    "test_set = pd.concat([stasiun_features, test_set], axis = 1)\n",
    "test_set.drop(columns = \"stasiun\", inplace = True)"
   ]
  },
  {
   "cell_type": "code",
   "execution_count": 39,
   "id": "f94187a9-872e-43aa-8258-2def7a67c45e",
   "metadata": {},
   "outputs": [
    {
     "data": {
      "text/plain": [
       "<AxesSubplot:xlabel='categori', ylabel='Count'>"
      ]
     },
     "execution_count": 39,
     "metadata": {},
     "output_type": "execute_result"
    },
    {
     "data": {
      "image/png": "[encoded data removed]",
      "text/plain": [
       "<Figure size 432x288 with 1 Axes>"
      ]
     },
     "metadata": {
      "needs_background": "light"
     },
     "output_type": "display_data"
    }
   ],
   "source": [
    "#BALANCING LABEL\n",
    "sns.histplot(data = dataset, x = \"categori\", hue = \"categori\")\n"
   ]
  },
  {
   "cell_type": "code",
   "execution_count": 40,
   "id": "9b11d1fc-21aa-4034-a4bd-9ced6c3d8f07",
   "metadata": {},
   "outputs": [
    {
     "data": {
      "text/plain": [
       "<AxesSubplot:xlabel='categori', ylabel='Count'>"
      ]
     },
     "execution_count": 40,
     "metadata": {},
     "output_type": "execute_result"
    },
    {
     "data": {
      "image/png": "[encoded data removed]",
      "text/plain": [
       "<Figure size 432x288 with 1 Axes>"
      ]
     },
     "metadata": {
      "needs_background": "light"
     },
     "output_type": "display_data"
    }
   ],
   "source": [
    "\n",
    "#Undersampling\n",
    "rus = RandomUnderSampler(random_state = 26)\n",
    "x_rus, y_rus = rus.fit_resample(dataset.drop(\"categori\", axis = 1), dataset.categori)\n",
    "dataset_rus = pd.concat([x_rus, y_rus], axis = 1)\n",
    "sns.histplot(dataset_rus, x = \"categori\", hue = \"categori\")"
   ]
  },
  {
   "cell_type": "code",
   "execution_count": 41,
   "id": "92663ecf-2b32-41ad-acc9-9d6c968865c7",
   "metadata": {},
   "outputs": [
    {
     "data": {
      "text/plain": [
       "<AxesSubplot:xlabel='categori', ylabel='Count'>"
      ]
     },
     "execution_count": 41,
     "metadata": {},
     "output_type": "execute_result"
    },
    {
     "data": {
      "image/png": "[encoded data removed]",
      "text/plain": [
       "<Figure size 432x288 with 1 Axes>"
      ]
     },
     "metadata": {
      "needs_background": "light"
     },
     "output_type": "display_data"
    }
   ],
   "source": [
    "#OVERSAMPLING\n",
    "ros = RandomOverSampler(random_state = 11)\n",
    "x_ros, y_ros = ros.fit_resample(dataset.drop(\"categori\", axis = 1), dataset.categori)\n",
    "dataset_ros = pd.concat([x_ros, y_ros], axis = 1)\n",
    "sns.histplot(dataset_ros, x = \"categori\", hue = \"categori\")"
   ]
  },
  {
   "cell_type": "code",
   "execution_count": 42,
   "id": "86d5881e-c272-4b06-99e6-f046e52505bb",
   "metadata": {},
   "outputs": [
    {
     "data": {
      "text/plain": [
       "<AxesSubplot:xlabel='categori', ylabel='Count'>"
      ]
     },
     "execution_count": 42,
     "metadata": {},
     "output_type": "execute_result"
    },
    {
     "data": {
      "image/png": "[encoded data removed]",
      "text/plain": [
       "<Figure size 432x288 with 1 Axes>"
      ]
     },
     "metadata": {
      "needs_background": "light"
     },
     "output_type": "display_data"
    }
   ],
   "source": [
    "#SMOTE\n",
    "sm = SMOTE(random_state = 112)\n",
    "x_sm, y_sm = sm.fit_resample(dataset.drop(\"categori\", axis = 1), dataset.categori)\n",
    "dataset_sm = pd.concat([x_sm, y_sm], axis = 1)\n",
    "sns.histplot(dataset_sm, x = \"categori\", hue = \"categori\")\n"
   ]
  },
  {
   "cell_type": "code",
   "execution_count": 43,
   "id": "fbf85ec5-d60d-455c-b464-03920f2628a1",
   "metadata": {},
   "outputs": [],
   "source": [
    "#LABEL ENCODING\n",
    "le_categori = LabelEncoder()\n",
    "le_categori.fit(params[\"label_categories_new\"])\n",
    "joblib.dump(le_categori, \"C:/Users/HP/Documents/Jeffri Ivander/Data Science/Pacmann AI academy/Tugas/ML Process/project/jeffri-zt9s_ML-_Process2/model/le_categori.pkl\")\n",
    "params[\"label_categories_new\"]\n",
    "\n",
    "y_rus = le_categori.transform(y_rus)\n",
    "y_ros = le_categori.transform(y_ros)\n",
    "y_sm = le_categori.transform(y_sm)\n",
    "# valid_set.categori = le_categori.transform(valid_set.categori)\n",
    "test_set.categori = le_categori.transform(test_set.categori)"
   ]
  },
  {
   "cell_type": "code",
   "execution_count": 44,
   "id": "fd92a67d-8290-4c94-bceb-81df077810d3",
   "metadata": {},
   "outputs": [
    {
     "data": {
      "text/plain": [
       "['C:/Users/HP/Documents/Jeffri Ivander/Data Science/Pacmann AI academy/Tugas/ML Process/project/jeffri-zt9s_ML-_Process2/processed/y_test_feng.pkl']"
      ]
     },
     "execution_count": 44,
     "metadata": {},
     "output_type": "execute_result"
    }
   ],
   "source": [
    "#DUMP FINAL TRAINING TEST AND VALID SET\n",
    "\n",
    "joblib.dump(x_rus, \"C:/Users/HP/Documents/Jeffri Ivander/Data Science/Pacmann AI academy/Tugas/ML Process/project/jeffri-zt9s_ML-_Process2/processed/x_rus.pkl\")\n",
    "joblib.dump(y_rus, \"C:/Users/HP/Documents/Jeffri Ivander/Data Science/Pacmann AI academy/Tugas/ML Process/project/jeffri-zt9s_ML-_Process2/processed/y_rus.pkl\")\n",
    "\n",
    "joblib.dump(x_ros, \"C:/Users/HP/Documents/Jeffri Ivander/Data Science/Pacmann AI academy/Tugas/ML Process/project/jeffri-zt9s_ML-_Process2/processed/x_ros.pkl\")\n",
    "joblib.dump(y_ros, \"C:/Users/HP/Documents/Jeffri Ivander/Data Science/Pacmann AI academy/Tugas/ML Process/project/jeffri-zt9s_ML-_Process2/processed/y_ros.pkl\")\n",
    "\n",
    "joblib.dump(x_sm, \"C:/Users/HP/Documents/Jeffri Ivander/Data Science/Pacmann AI academy/Tugas/ML Process/project/jeffri-zt9s_ML-_Process2/processed/x_sm.pkl\")\n",
    "joblib.dump(y_sm, \"C:/Users/HP/Documents/Jeffri Ivander/Data Science/Pacmann AI academy/Tugas/ML Process/project/jeffri-zt9s_ML-_Process2/processed/y_sm.pkl\")\n",
    "\n",
    "# joblib.dump(valid_set.drop(columns = \"categori\"), \"C:/Users/HP/Documents/Jeffri Ivander/Data Science/Pacmann AI academy/Tugas/ML Process/project/jeffri-zt9s_ML-_Process2/processed/x_valid_feng.pkl\")\n",
    "# joblib.dump(valid_set.categori, \"C:/Users/HP/Documents/Jeffri Ivander/Data Science/Pacmann AI academy/Tugas/ML Process/project/jeffri-zt9s_ML-_Process2/processed/y_valid_feng.pkl\")\n",
    "\n",
    "joblib.dump(test_set.drop(columns = \"categori\"), \"C:/Users/HP/Documents/Jeffri Ivander/Data Science/Pacmann AI academy/Tugas/ML Process/project/jeffri-zt9s_ML-_Process2/processed/x_test_feng.pkl\")\n",
    "joblib.dump(test_set.categori, \"C:/Users/HP/Documents/Jeffri Ivander/Data Science/Pacmann AI academy/Tugas/ML Process/project/jeffri-zt9s_ML-_Process2/processed/y_test_feng.pkl\")"
   ]
  },
  {
   "cell_type": "code",
   "execution_count": 45,
   "id": "7afc8014-ce43-4275-b310-e4282e70212c",
   "metadata": {},
   "outputs": [],
   "source": [
    "#MODELLING\n",
    "\n",
    "x_rus = joblib.load(\"C:/Users/HP/Documents/Jeffri Ivander/Data Science/Pacmann AI academy/Tugas/ML Process/project/jeffri-zt9s_ML-_Process2/processed/x_rus.pkl\")\n",
    "y_rus = joblib.load(\"C:/Users/HP/Documents/Jeffri Ivander/Data Science/Pacmann AI academy/Tugas/ML Process/project/jeffri-zt9s_ML-_Process2/processed/y_rus.pkl\")\n",
    "\n",
    "x_ros = joblib.load(\"C:/Users/HP/Documents/Jeffri Ivander/Data Science/Pacmann AI academy/Tugas/ML Process/project/jeffri-zt9s_ML-_Process2/processed/x_ros.pkl\")\n",
    "y_ros = joblib.load(\"C:/Users/HP/Documents/Jeffri Ivander/Data Science/Pacmann AI academy/Tugas/ML Process/project/jeffri-zt9s_ML-_Process2/processed/y_ros.pkl\")\n",
    "\n",
    "x_sm = joblib.load(\"C:/Users/HP/Documents/Jeffri Ivander/Data Science/Pacmann AI academy/Tugas/ML Process/project/jeffri-zt9s_ML-_Process2/processed/x_sm.pkl\")\n",
    "y_sm = joblib.load(\"C:/Users/HP/Documents/Jeffri Ivander/Data Science/Pacmann AI academy/Tugas/ML Process/project/jeffri-zt9s_ML-_Process2/processed/y_sm.pkl\")\n",
    "\n",
    "# x_valid = joblib.load(\"C:/Users/HP/Documents/Jeffri Ivander/Data Science/Pacmann AI academy/Tugas/ML Process/project/jeffri-zt9s_ML-_Process2/processed/x_valid_feng.pkl\")\n",
    "# y_valid = joblib.load(\"C:/Users/HP/Documents/Jeffri Ivander/Data Science/Pacmann AI academy/Tugas/ML Process/project/jeffri-zt9s_ML-_Process2/processed/y_valid_feng.pkl\")\n",
    "\n",
    "x_test = joblib.load(\"C:/Users/HP/Documents/Jeffri Ivander/Data Science/Pacmann AI academy/Tugas/ML Process/project/jeffri-zt9s_ML-_Process2/processed/x_test_feng.pkl\")\n",
    "y_test = joblib.load(\"C:/Users/HP/Documents/Jeffri Ivander/Data Science/Pacmann AI academy/Tugas/ML Process/project/jeffri-zt9s_ML-_Process2/processed/y_test_feng.pkl\")"
   ]
  },
  {
   "cell_type": "code",
   "execution_count": null,
   "id": "4e1a246f-865b-4c5e-b3a6-cf21c24e2fbd",
   "metadata": {},
   "outputs": [],
   "source": []
  },
  {
   "cell_type": "code",
   "execution_count": 46,
   "id": "b178cd4f-56fd-40f2-b6b8-1150389a7ad7",
   "metadata": {},
   "outputs": [],
   "source": [
    "#Create LOG TEMPLATE\n",
    "def time_stamp():\n",
    "    return datetime.now()\n",
    "\n",
    "def create_log_template():\n",
    "    logger = {\n",
    "        \"model_name\" : [],\n",
    "        \"model_uid\" : [],\n",
    "        \"training_time\" : [],\n",
    "        \"training_date\" : [],\n",
    "        \"performance\" : [],\n",
    "        \"f1_score_avg\" : [],\n",
    "        \"data_configurations\" : [],\n",
    "    }\n",
    "\n",
    "    return logger\n",
    "\n",
    "\n",
    "def training_log_updater(current_log, log_path):\n",
    "    current_log = current_log.copy()\n",
    "\n",
    "    try:\n",
    "        with open(log_path, \"r\") as file:\n",
    "            last_log = json.load(file)\n",
    "        file.close()\n",
    "    except FileNotFoundError as ffe:\n",
    "        with open(log_path, \"w\") as file:\n",
    "            file.write(\"[]\")\n",
    "        file.close()\n",
    "        with open(log_path, \"r\") as file:\n",
    "            last_log = json.load(file)\n",
    "        file.close()\n",
    "    \n",
    "    last_log.append(current_log)\n",
    "\n",
    "    with open(log_path, \"w\") as file:\n",
    "        json.dump(last_log, file)\n",
    "        file.close()\n",
    "\n",
    "    return last_log"
   ]
  },
  {
   "cell_type": "code",
   "execution_count": 94,
   "id": "445dbc7b-8fdb-4212-b653-7fa05889dc66",
   "metadata": {},
   "outputs": [],
   "source": [
    "#Training and Evaluation\n"
   ]
  },
  {
   "cell_type": "code",
   "execution_count": 48,
   "id": "27c39a95-a6e6-4c0e-8cca-8dad7bae5ca5",
   "metadata": {},
   "outputs": [],
   "source": [
    "#CREATE MODEL OBJECT\n",
    "lgr_baseline = LogisticRegression(solver='liblinear')\n",
    "dct_baseline = DecisionTreeClassifier()\n",
    "rfc_baseline = RandomForestClassifier()\n",
    "knn_baseline = KNeighborsClassifier()\n",
    "xgb_baseline = XGBClassifier()\n",
    "\n",
    "list_of_model = {\n",
    "    \"undersampling\" : [\n",
    "        { \"model_name\": lgr_baseline.__class__.__name__, \"model_object\": lgr_baseline, \"model_uid\": \"\"},\n",
    "        { \"model_name\": dct_baseline.__class__.__name__, \"model_object\": dct_baseline, \"model_uid\": \"\"},\n",
    "        { \"model_name\": rfc_baseline.__class__.__name__, \"model_object\": rfc_baseline, \"model_uid\": \"\"},\n",
    "        { \"model_name\": knn_baseline.__class__.__name__, \"model_object\": knn_baseline, \"model_uid\": \"\"},\n",
    "        { \"model_name\": xgb_baseline.__class__.__name__, \"model_object\": xgb_baseline, \"model_uid\": \"\"}\n",
    "        ],\n",
    "    \"oversampling\" : [\n",
    "        { \"model_name\": lgr_baseline.__class__.__name__, \"model_object\": lgr_baseline, \"model_uid\": \"\"},\n",
    "        { \"model_name\": dct_baseline.__class__.__name__, \"model_object\": dct_baseline, \"model_uid\": \"\"},\n",
    "        { \"model_name\": rfc_baseline.__class__.__name__, \"model_object\": rfc_baseline, \"model_uid\": \"\"},\n",
    "        { \"model_name\": knn_baseline.__class__.__name__, \"model_object\": knn_baseline, \"model_uid\": \"\"},\n",
    "        { \"model_name\": xgb_baseline.__class__.__name__, \"model_object\": xgb_baseline, \"model_uid\": \"\"}\n",
    "        ],\n",
    "    \"smote\" : [\n",
    "        { \"model_name\": lgr_baseline.__class__.__name__, \"model_object\": lgr_baseline, \"model_uid\": \"\"},\n",
    "        { \"model_name\": dct_baseline.__class__.__name__, \"model_object\": dct_baseline, \"model_uid\": \"\"},\n",
    "        { \"model_name\": rfc_baseline.__class__.__name__, \"model_object\": rfc_baseline, \"model_uid\": \"\"},\n",
    "        { \"model_name\": knn_baseline.__class__.__name__, \"model_object\": knn_baseline, \"model_uid\": \"\"},\n",
    "        { \"model_name\": xgb_baseline.__class__.__name__, \"model_object\": xgb_baseline, \"model_uid\": \"\"}\n",
    "        ],\n",
    "    }\n",
    "\n",
    "#Hyperparameter Tuning\n",
    "\n",
    "dist_params_knn = {\n",
    "    \"algorithm\" : [\"ball_tree\", \"kd_tree\", \"brute\"],\n",
    "    \"n_neighbors\" : [2, 3, 4, 5, 6, 10, 15, 20, 25],\n",
    "    \"leaf_size\" : [2, 3, 4, 5, 6, 10, 15, 20, 25],\n",
    "}\n",
    "\n",
    "knn_enh = GridSearchCV(KNeighborsClassifier(), dist_params_knn, n_jobs = -1, verbose = 420)\n",
    "\n",
    "list_of_model[\"undersampling\"].append({\"model_name\": knn_enh.__class__.__name__ + \"-\" + knn_enh.estimator.__class__.__name__, \"model_object\": copy.deepcopy(knn_enh), \"model_uid\": \"\"})\n",
    "list_of_model[\"oversampling\"].append({\"model_name\": knn_enh.__class__.__name__ + \"-\" + knn_enh.estimator.__class__.__name__, \"model_object\": copy.deepcopy(knn_enh), \"model_uid\": \"\"})\n",
    "list_of_model[\"smote\"].append({\"model_name\": knn_enh.__class__.__name__ + \"-\" + knn_enh.estimator.__class__.__name__, \"model_object\": copy.deepcopy(knn_enh), \"model_uid\": \"\"})\n"
   ]
  },
  {
   "cell_type": "code",
   "execution_count": 49,
   "id": "a67684de-cbab-43f8-83d9-070f71a51324",
   "metadata": {},
   "outputs": [],
   "source": [
    "#Training Model\n",
    "def train_eval_model(list_of_model, prefix_model_name, x_train, y_train, data_configuration_name, x_valid, y_valid, log_path):\n",
    "\n",
    "    list_of_model = copy.deepcopy(list_of_model)\n",
    "    logger = create_log_template()\n",
    "\n",
    "    for model in tqdm(list_of_model):    \n",
    "        model_name = prefix_model_name + \"-\" + model[\"model_name\"]\n",
    "\n",
    "        start_time = time_stamp()\n",
    "        \n",
    "        model[\"model_object\"].fit(x_train, y_train)\n",
    "        finished_time = time_stamp()\n",
    "\n",
    "        elapsed_time = finished_time - start_time\n",
    "        elapsed_time = elapsed_time.total_seconds()\n",
    "\n",
    "        y_pred = model[\"model_object\"].predict(x_valid)\n",
    "        performance = classification_report(y_valid, y_pred, output_dict = True)\n",
    "\n",
    "        plain_id = str(start_time) + str(finished_time)\n",
    "        chiper_id = hashlib.md5(plain_id.encode()).hexdigest()\n",
    "\n",
    "        model[\"model_uid\"] = chiper_id\n",
    "\n",
    "        logger[\"model_name\"].append(model_name)\n",
    "        logger[\"model_uid\"].append(chiper_id)\n",
    "        logger[\"training_time\"].append(elapsed_time)\n",
    "        logger[\"training_date\"].append(str(start_time))\n",
    "        logger[\"performance\"].append(performance)\n",
    "        logger[\"f1_score_avg\"].append(performance[\"macro avg\"][\"f1-score\"])\n",
    "        logger[\"data_configurations\"].append(data_configuration_name)\n",
    "\n",
    "    training_log = training_log_updater(logger, log_path)\n",
    "\n",
    "    return training_log, list_of_model"
   ]
  },
  {
   "cell_type": "code",
   "execution_count": 50,
   "id": "f0cc12cf-f29e-4f04-993a-39da4154d757",
   "metadata": {},
   "outputs": [
    {
     "name": "stderr",
     "output_type": "stream",
     "text": [
      " 50%|██████████████████████████████████████████                                          | 3/6 [00:00<00:00, 27.38it/s]C:\\Users\\HP\\anaconda3\\lib\\site-packages\\xgboost\\sklearn.py:1224: UserWarning: The use of label encoder in XGBClassifier is deprecated and will be removed in a future release. To remove this warning, do the following: 1) Pass option use_label_encoder=False when constructing XGBClassifier object; and 2) Encode your labels (y) as integers starting with 0, i.e. 0, 1, 2, ..., [num_class - 1].\n",
      "  warnings.warn(label_encoder_deprecation_msg, UserWarning)\n",
      "C:\\Users\\HP\\anaconda3\\lib\\site-packages\\xgboost\\data.py:250: FutureWarning: pandas.Int64Index is deprecated and will be removed from pandas in a future version. Use pandas.Index with the appropriate dtype instead.\n",
      "  elif isinstance(data.columns, (pd.Int64Index, pd.RangeIndex)):\n"
     ]
    },
    {
     "name": "stdout",
     "output_type": "stream",
     "text": [
      "[14:17:35] WARNING: C:/Users/Administrator/workspace/xgboost-win64_release_1.5.0/src/learner.cc:1115: Starting in XGBoost 1.3.0, the default evaluation metric used with the objective 'binary:logistic' was changed from 'error' to 'logloss'. Explicitly set eval_metric if you'd like to restore the old behavior.\n",
      "Fitting 5 folds for each of 243 candidates, totalling 1215 fits\n"
     ]
    },
    {
     "name": "stderr",
     "output_type": "stream",
     "text": [
      "C:\\Users\\HP\\anaconda3\\lib\\site-packages\\sklearn\\model_selection\\_search.py:953: UserWarning: One or more of the test scores are non-finite: [0.92842105 0.94894737 0.93894737 0.93894737 0.93894737 0.93894737\n",
      " 0.92842105 0.92842105 0.92842105 0.92842105 0.94894737 0.93894737\n",
      " 0.93894737 0.93894737 0.93894737 0.92842105 0.92842105 0.92842105\n",
      " 0.92842105 0.94894737 0.93894737 0.93894737 0.93894737 0.93894737\n",
      " 0.92842105 0.92842105 0.92842105 0.92842105 0.94894737 0.93894737\n",
      " 0.93894737 0.93894737 0.93894737 0.92842105 0.92842105 0.92842105\n",
      " 0.92842105 0.94894737 0.93894737 0.93894737 0.93894737 0.93894737\n",
      " 0.92842105 0.92842105 0.92842105 0.92842105 0.94894737 0.93894737\n",
      " 0.93894737 0.93894737 0.93894737 0.92842105 0.92842105 0.92842105\n",
      " 0.92842105 0.94894737 0.93894737 0.93894737 0.93894737 0.93894737\n",
      " 0.92842105 0.92842105 0.92842105 0.92842105 0.94894737 0.93894737\n",
      " 0.93894737 0.93894737 0.93894737 0.92842105 0.92842105 0.92842105\n",
      " 0.92842105 0.94894737 0.93894737 0.93894737 0.93894737 0.93894737\n",
      " 0.92842105 0.92842105 0.92842105 0.92842105 0.94894737 0.93894737\n",
      " 0.93894737 0.93894737 0.93894737 0.92842105 0.92842105 0.92842105\n",
      " 0.92842105 0.94894737 0.93894737 0.93894737 0.93894737 0.93894737\n",
      " 0.92842105 0.92842105 0.92842105 0.92842105 0.94894737 0.93894737\n",
      " 0.93894737 0.93894737 0.93894737 0.92842105 0.92842105 0.92842105\n",
      " 0.92842105 0.94894737 0.93894737 0.93894737 0.93894737 0.93894737\n",
      " 0.92842105 0.92842105 0.92842105 0.92842105 0.94894737 0.93894737\n",
      " 0.93894737 0.93894737 0.93894737 0.92842105 0.92842105 0.92842105\n",
      " 0.92842105 0.94894737 0.93894737 0.93894737 0.93894737 0.93894737\n",
      " 0.92842105 0.92842105 0.92842105 0.92842105 0.94894737 0.93894737\n",
      " 0.93894737 0.93894737 0.93894737 0.92842105 0.92842105 0.92842105\n",
      " 0.92842105 0.94894737 0.93894737 0.93894737 0.93894737 0.93894737\n",
      " 0.92842105 0.92842105 0.92842105 0.92842105 0.94894737 0.93894737\n",
      " 0.93894737 0.93894737 0.93894737 0.92842105 0.92842105 0.92842105\n",
      "        nan        nan        nan        nan        nan        nan\n",
      "        nan        nan        nan        nan        nan        nan\n",
      "        nan        nan        nan        nan        nan        nan\n",
      "        nan        nan        nan        nan        nan        nan\n",
      "        nan        nan        nan        nan        nan        nan\n",
      "        nan        nan        nan        nan        nan        nan\n",
      "        nan        nan        nan        nan        nan        nan\n",
      "        nan        nan        nan        nan        nan        nan\n",
      "        nan        nan        nan        nan        nan        nan\n",
      "        nan        nan        nan        nan        nan        nan\n",
      "        nan        nan        nan        nan        nan        nan\n",
      "        nan        nan        nan        nan        nan        nan\n",
      "        nan        nan        nan        nan        nan        nan\n",
      "        nan        nan        nan]\n",
      "  warnings.warn(\n",
      "100%|████████████████████████████████████████████████████████████████████████████████████| 6/6 [00:03<00:00,  1.68it/s]\n",
      " 50%|██████████████████████████████████████████                                          | 3/6 [00:00<00:00, 21.23it/s]C:\\Users\\HP\\anaconda3\\lib\\site-packages\\xgboost\\sklearn.py:1224: UserWarning: The use of label encoder in XGBClassifier is deprecated and will be removed in a future release. To remove this warning, do the following: 1) Pass option use_label_encoder=False when constructing XGBClassifier object; and 2) Encode your labels (y) as integers starting with 0, i.e. 0, 1, 2, ..., [num_class - 1].\n",
      "  warnings.warn(label_encoder_deprecation_msg, UserWarning)\n",
      "C:\\Users\\HP\\anaconda3\\lib\\site-packages\\xgboost\\data.py:250: FutureWarning: pandas.Int64Index is deprecated and will be removed from pandas in a future version. Use pandas.Index with the appropriate dtype instead.\n",
      "  elif isinstance(data.columns, (pd.Int64Index, pd.RangeIndex)):\n"
     ]
    },
    {
     "name": "stdout",
     "output_type": "stream",
     "text": [
      "[14:17:38] WARNING: C:/Users/Administrator/workspace/xgboost-win64_release_1.5.0/src/learner.cc:1115: Starting in XGBoost 1.3.0, the default evaluation metric used with the objective 'binary:logistic' was changed from 'error' to 'logloss'. Explicitly set eval_metric if you'd like to restore the old behavior.\n",
      "Fitting 5 folds for each of 243 candidates, totalling 1215 fits\n"
     ]
    },
    {
     "name": "stderr",
     "output_type": "stream",
     "text": [
      "C:\\Users\\HP\\anaconda3\\lib\\site-packages\\sklearn\\model_selection\\_search.py:953: UserWarning: One or more of the test scores are non-finite: [0.99248629 0.99248629 0.98998629 0.98998629 0.98873433 0.98123237\n",
      " 0.97622845 0.97247453 0.96997453 0.99248629 0.99248629 0.98998629\n",
      " 0.98998629 0.98873433 0.98123237 0.97622845 0.97247453 0.96997453\n",
      " 0.99248629 0.99248629 0.98998629 0.98998629 0.98873433 0.98123237\n",
      " 0.97622845 0.97247453 0.96997453 0.99248629 0.99248629 0.98998629\n",
      " 0.98998629 0.98873433 0.98123237 0.97622845 0.97247453 0.96997453\n",
      " 0.99248629 0.99248629 0.98998629 0.98998629 0.98873433 0.98123237\n",
      " 0.97622845 0.97247453 0.96997453 0.99248629 0.99248629 0.98998629\n",
      " 0.98998629 0.98873433 0.98060541 0.97622845 0.97247453 0.96997453\n",
      " 0.99248629 0.99248629 0.98998629 0.98998629 0.98873433 0.98060541\n",
      " 0.97622845 0.97247453 0.96997453 0.99248629 0.99248629 0.98998629\n",
      " 0.98998629 0.98873433 0.98123237 0.97622845 0.97247453 0.96997453\n",
      " 0.99248629 0.99248629 0.98998629 0.98998629 0.98873433 0.98123237\n",
      " 0.97622845 0.97247453 0.96997453 0.99248629 0.99248629 0.98998629\n",
      " 0.98998629 0.98873433 0.98123237 0.97685345 0.97309953 0.96997453\n",
      " 0.99248629 0.99248629 0.98998629 0.98998629 0.98873433 0.98123237\n",
      " 0.97685345 0.97309953 0.96997453 0.99248629 0.99248629 0.98998629\n",
      " 0.98998629 0.98873433 0.98123237 0.97685345 0.97309953 0.96997453\n",
      " 0.99248629 0.99248629 0.98998629 0.98998629 0.98873433 0.98123237\n",
      " 0.97685345 0.97309953 0.96997453 0.99248629 0.99248629 0.98998629\n",
      " 0.98998629 0.98873433 0.98123237 0.97685345 0.97309953 0.96997453\n",
      " 0.99248629 0.99248629 0.98998629 0.98998629 0.98873433 0.98123237\n",
      " 0.97685345 0.97309953 0.96997453 0.99248629 0.99248629 0.98998629\n",
      " 0.98998629 0.98873433 0.98123237 0.97685345 0.97309953 0.96997453\n",
      " 0.99248629 0.99248629 0.98998629 0.98998629 0.98873433 0.98123237\n",
      " 0.97685345 0.97309953 0.96997453 0.99248629 0.99248629 0.98998629\n",
      " 0.98998629 0.98873433 0.98123237 0.97685345 0.97309953 0.96997453\n",
      "        nan        nan        nan        nan        nan        nan\n",
      "        nan        nan        nan        nan        nan        nan\n",
      "        nan        nan        nan        nan        nan        nan\n",
      "        nan        nan        nan        nan        nan        nan\n",
      "        nan        nan        nan        nan        nan        nan\n",
      "        nan        nan        nan        nan        nan        nan\n",
      "        nan        nan        nan        nan        nan        nan\n",
      "        nan        nan        nan        nan        nan        nan\n",
      "        nan        nan        nan        nan        nan        nan\n",
      "        nan        nan        nan        nan        nan        nan\n",
      "        nan        nan        nan        nan        nan        nan\n",
      "        nan        nan        nan        nan        nan        nan\n",
      "        nan        nan        nan        nan        nan        nan\n",
      "        nan        nan        nan]\n",
      "  warnings.warn(\n",
      "100%|████████████████████████████████████████████████████████████████████████████████████| 6/6 [00:02<00:00,  2.90it/s]\n",
      " 50%|██████████████████████████████████████████                                          | 3/6 [00:00<00:00, 18.03it/s]C:\\Users\\HP\\anaconda3\\lib\\site-packages\\xgboost\\sklearn.py:1224: UserWarning: The use of label encoder in XGBClassifier is deprecated and will be removed in a future release. To remove this warning, do the following: 1) Pass option use_label_encoder=False when constructing XGBClassifier object; and 2) Encode your labels (y) as integers starting with 0, i.e. 0, 1, 2, ..., [num_class - 1].\n",
      "  warnings.warn(label_encoder_deprecation_msg, UserWarning)\n",
      "C:\\Users\\HP\\anaconda3\\lib\\site-packages\\xgboost\\data.py:250: FutureWarning: pandas.Int64Index is deprecated and will be removed from pandas in a future version. Use pandas.Index with the appropriate dtype instead.\n",
      "  elif isinstance(data.columns, (pd.Int64Index, pd.RangeIndex)):\n"
     ]
    },
    {
     "name": "stdout",
     "output_type": "stream",
     "text": [
      "[14:17:40] WARNING: C:/Users/Administrator/workspace/xgboost-win64_release_1.5.0/src/learner.cc:1115: Starting in XGBoost 1.3.0, the default evaluation metric used with the objective 'binary:logistic' was changed from 'error' to 'logloss'. Explicitly set eval_metric if you'd like to restore the old behavior.\n",
      "Fitting 5 folds for each of 243 candidates, totalling 1215 fits\n"
     ]
    },
    {
     "name": "stderr",
     "output_type": "stream",
     "text": [
      "C:\\Users\\HP\\anaconda3\\lib\\site-packages\\sklearn\\model_selection\\_search.py:953: UserWarning: One or more of the test scores are non-finite: [0.99186129 0.99248824 0.98935933 0.98935933 0.98748433 0.98123041\n",
      " 0.97747845 0.97247257 0.97434953 0.99186129 0.99248824 0.98935933\n",
      " 0.98935933 0.98748433 0.98123041 0.97747845 0.97247257 0.97434953\n",
      " 0.99186129 0.99248824 0.98935933 0.98935933 0.98748433 0.98123041\n",
      " 0.97747845 0.97247257 0.97434953 0.99186129 0.99248824 0.98935933\n",
      " 0.98935933 0.98748433 0.98123041 0.97747845 0.97247257 0.97434953\n",
      " 0.99186129 0.99248824 0.98935933 0.98935933 0.98748433 0.98123041\n",
      " 0.97747845 0.97247257 0.97434953 0.99186129 0.99248824 0.98935933\n",
      " 0.98935933 0.98748433 0.98123041 0.97747845 0.97247257 0.97434953\n",
      " 0.99186129 0.99248824 0.98935933 0.98935933 0.98748433 0.98123041\n",
      " 0.97747845 0.97247257 0.97434953 0.99186129 0.99248824 0.98935933\n",
      " 0.98935933 0.98748433 0.98123041 0.97747845 0.97247257 0.97434953\n",
      " 0.99186129 0.99248824 0.98935933 0.98935933 0.98748433 0.98123041\n",
      " 0.97747845 0.97247257 0.97434953 0.99248824 0.99248824 0.98935933\n",
      " 0.98935933 0.98748433 0.98123041 0.97747845 0.97247257 0.97434953\n",
      " 0.99248824 0.99248824 0.98935933 0.98935933 0.98748433 0.98123041\n",
      " 0.97747845 0.97247257 0.97434953 0.99248824 0.99248824 0.98935933\n",
      " 0.98935933 0.98748433 0.98123041 0.97747845 0.97247257 0.97434953\n",
      " 0.99248824 0.99248824 0.98935933 0.98935933 0.98748433 0.98123041\n",
      " 0.97747845 0.97247257 0.97434953 0.99248824 0.99248824 0.98935933\n",
      " 0.98935933 0.98748433 0.98123041 0.97747845 0.97247257 0.97434953\n",
      " 0.99248824 0.99248824 0.98935933 0.98935933 0.98748433 0.98123041\n",
      " 0.97747845 0.97247257 0.97434953 0.99248824 0.99248824 0.98935933\n",
      " 0.98935933 0.98748433 0.98123041 0.97747845 0.97247257 0.97434953\n",
      " 0.99186129 0.99248824 0.98935933 0.98935933 0.98748433 0.98123041\n",
      " 0.97747845 0.97247257 0.97434953 0.99186129 0.99248824 0.98935933\n",
      " 0.98935933 0.98748433 0.98123041 0.97747845 0.97247257 0.97434953\n",
      "        nan        nan        nan        nan        nan        nan\n",
      "        nan        nan        nan        nan        nan        nan\n",
      "        nan        nan        nan        nan        nan        nan\n",
      "        nan        nan        nan        nan        nan        nan\n",
      "        nan        nan        nan        nan        nan        nan\n",
      "        nan        nan        nan        nan        nan        nan\n",
      "        nan        nan        nan        nan        nan        nan\n",
      "        nan        nan        nan        nan        nan        nan\n",
      "        nan        nan        nan        nan        nan        nan\n",
      "        nan        nan        nan        nan        nan        nan\n",
      "        nan        nan        nan        nan        nan        nan\n",
      "        nan        nan        nan        nan        nan        nan\n",
      "        nan        nan        nan        nan        nan        nan\n",
      "        nan        nan        nan]\n",
      "  warnings.warn(\n",
      "100%|████████████████████████████████████████████████████████████████████████████████████| 6/6 [00:02<00:00,  2.84it/s]\n"
     ]
    }
   ],
   "source": [
    "#BASELINE MODEL Undersampling\n",
    "training_log, list_of_model_rus = train_eval_model(list_of_model[\"undersampling\"],\"baseline_model\",x_rus,y_rus,\"undersampling\",x_test,y_test,\n",
    "\"C:/Users/HP/Documents/Jeffri Ivander/Data Science/Pacmann AI academy/Tugas/ML Process/project/jeffri-zt9s_ML-_Process2/log/training_log.json\"\n",
    ")\n",
    "\n",
    "list_of_model[\"undersampling\"] = copy.deepcopy(list_of_model_rus)\n",
    "\n",
    "#BASELINE MODEL Oversampling\n",
    "training_log, list_of_model_ros = train_eval_model(\n",
    "    list_of_model[\"oversampling\"],\n",
    "    \"baseline_model\",\n",
    "    x_ros,\n",
    "    y_ros,\n",
    "    \"oversampling\",\n",
    "    x_test,y_test,\n",
    "    \"C:/Users/HP/Documents/Jeffri Ivander/Data Science/Pacmann AI academy/Tugas/ML Process/project/jeffri-zt9s_ML-_Process2/log/training_log.json\"\n",
    ")\n",
    "\n",
    "list_of_model[\"oversampling\"] = copy.deepcopy(list_of_model_ros)\n",
    "\n",
    "\n",
    "#BASELINE MODEL SMOTE\n",
    "training_log, list_of_model_sm = train_eval_model(\n",
    "    list_of_model[\"smote\"],\n",
    "    \"baseline_model\",\n",
    "    x_sm,\n",
    "    y_sm,\n",
    "    \"smote\",\n",
    "    x_test,y_test,\n",
    "    \"C:/Users/HP/Documents/Jeffri Ivander/Data Science/Pacmann AI academy/Tugas/ML Process/project/jeffri-zt9s_ML-_Process2/log/training_log.json\"\n",
    ")\n",
    "\n",
    "list_of_model[\"smote\"] = copy.deepcopy(list_of_model_sm)\n",
    "\n",
    "\n",
    "# #adding hyperparameter tuning\n",
    "\n",
    "# training_log, list_of_model_rus_hyp = train_eval_model(\n",
    "#     [list_of_model[\"undersampling\"][-1]],\n",
    "#     \"hyperparams\",\n",
    "#     x_rus,\n",
    "#     y_rus,\n",
    "#     \"undersampling\",\n",
    "#     x_valid,\n",
    "#     y_valid,\n",
    "#     \"C:/Users/HP/Documents/Jeffri Ivander/Data Science/Pacmann AI academy/Tugas/ML Process/project/jeffri-zt9s_ML-_Process2/log/training_log.json\"\n",
    "# )\n",
    "\n",
    "# training_log, list_of_model_ros_hyp = train_eval_model(\n",
    "#     [list_of_model[\"oversampling\"][-1]],\n",
    "#     \"hyperparams\",\n",
    "#     x_ros,\n",
    "#     y_ros,\n",
    "#     \"oversampling\",\n",
    "#     x_valid,\n",
    "#     y_valid,\n",
    "#     \"C:/Users/HP/Documents/Jeffri Ivander/Data Science/Pacmann AI academy/Tugas/ML Process/project/jeffri-zt9s_ML-_Process2/log/training_log.json\"\n",
    "# )\n",
    "\n",
    "# training_log, list_of_model_sm_hyp = train_eval_model(\n",
    "#     [list_of_model[\"smote\"][-1]],\n",
    "#     \"hyperparams\",\n",
    "#     x_sm,\n",
    "#     y_sm,\n",
    "#     \"smote\",\n",
    "#     x_valid,\n",
    "#     y_valid,\n",
    "#     \"C:/Users/HP/Documents/Jeffri Ivander/Data Science/Pacmann AI academy/Tugas/ML Process/project/jeffri-zt9s_ML-_Process2/log/training_log.json\"\n",
    "# )\n",
    "\n",
    "# list_of_model[\"undersampling\"][-1] = copy.deepcopy(list_of_model_rus_hyp[0])\n",
    "# list_of_model[\"oversampling\"][-1] = copy.deepcopy(list_of_model_ros_hyp[0])\n",
    "# list_of_model[\"smote\"][-1] = copy.deepcopy(list_of_model_sm_hyp[0])"
   ]
  },
  {
   "cell_type": "code",
   "execution_count": 51,
   "id": "64d76f4b-fa3d-485e-9ca4-25c8712c42e8",
   "metadata": {},
   "outputs": [],
   "source": [
    "#BEST PERFORMANCES\n",
    "def training_log_to_df(training_log):\n",
    "    training_res = pd.DataFrame()\n",
    "\n",
    "    for log in tqdm(training_log):\n",
    "        training_res = pd.concat([training_res, pd.DataFrame(log)])\n",
    "    \n",
    "    training_res.sort_values([\"f1_score_avg\", \"training_time\"], ascending = [False, True], inplace = True)\n",
    "    training_res.reset_index(inplace = True, drop = True)\n",
    "    \n",
    "    return training_res\n",
    "\n",
    "def get_best_model(training_log_df, list_of_model):\n",
    "    model_object = None\n",
    "\n",
    "    best_model_info = training_log_df.sort_values([\"f1_score_avg\", \"training_time\"], ascending = [False, True]).iloc[0]\n",
    "    \n",
    "\n",
    "    print(best_model_info[\"model_uid\"])\n",
    "\n",
    "    \n",
    "    for configuration_data in list_of_model:\n",
    "        for model_data in list_of_model[configuration_data]:\n",
    "\n",
    "            \n",
    "            if model_data[\"model_uid\"] == best_model_info[\"model_uid\"]:\n",
    "                model_object = model_data[\"model_object\"]\n",
    "                \n",
    "    \n",
    "    if model_object == None:\n",
    "        raise RuntimeError(\"The best model not found in your list of model.\")\n",
    "    \n",
    "    return model_object\n",
    "    \n",
    "    "
   ]
  },
  {
   "cell_type": "code",
   "execution_count": 52,
   "id": "7417a66b-9611-405f-b64d-bb0649ba5ea1",
   "metadata": {},
   "outputs": [
    {
     "name": "stderr",
     "output_type": "stream",
     "text": [
      "100%|███████████████████████████████████████████████████████████████████████████████████| 3/3 [00:00<00:00, 998.41it/s]"
     ]
    },
    {
     "name": "stdout",
     "output_type": "stream",
     "text": [
      "123831a3173bfe42bb4592991719fd49\n"
     ]
    },
    {
     "name": "stderr",
     "output_type": "stream",
     "text": [
      "\n"
     ]
    },
    {
     "data": {
      "text/plain": [
       "['C:/Users/HP/Documents/Jeffri Ivander/Data Science/Pacmann AI academy/Tugas/ML Process/project/jeffri-zt9s_ML-_Process2/model/model.pkl']"
      ]
     },
     "execution_count": 52,
     "metadata": {},
     "output_type": "execute_result"
    }
   ],
   "source": [
    "training_res = training_log_to_df(training_log)\n",
    "model = get_best_model(training_res, list_of_model)\n",
    "joblib.dump(model, \"C:/Users/HP/Documents/Jeffri Ivander/Data Science/Pacmann AI academy/Tugas/ML Process/project/jeffri-zt9s_ML-_Process2/model/model.pkl\")"
   ]
  },
  {
   "cell_type": "code",
   "execution_count": 54,
   "id": "3ebe12b1-dfd0-417d-9537-609abd563498",
   "metadata": {},
   "outputs": [
    {
     "data": {
      "text/plain": [
       "<sklearn.metrics._plot.confusion_matrix.ConfusionMatrixDisplay at 0x19ee6d71d00>"
      ]
     },
     "execution_count": 54,
     "metadata": {},
     "output_type": "execute_result"
    },
    {
     "data": {
      "image/png": "[encoded data removed]",
      "text/plain": [
       "<Figure size 432x288 with 2 Axes>"
      ]
     },
     "metadata": {
      "needs_background": "light"
     },
     "output_type": "display_data"
    }
   ],
   "source": [
    "#Confusion Matrix\n",
    "\n",
    "y_pred = model.predict(x_test)\n",
    "ConfusionMatrixDisplay.from_predictions(y_test, y_pred)"
   ]
  },
  {
   "cell_type": "code",
   "execution_count": null,
   "id": "d0e8bc29-771b-4334-892c-942b9afe1053",
   "metadata": {},
   "outputs": [],
   "source": []
  }
 ],
 "metadata": {
  "kernelspec": {
   "display_name": "Python 3",
   "language": "python",
   "name": "python3"
  },
  "language_info": {
   "codemirror_mode": {
    "name": "ipython",
    "version": 3
   },
   "file_extension": ".py",
   "mimetype": "text/x-python",
   "name": "python",
   "nbconvert_exporter": "python",
   "pygments_lexer": "ipython3",
   "version": "3.8.8"
  }
 },
 "nbformat": 4,
 "nbformat_minor": 5
}
